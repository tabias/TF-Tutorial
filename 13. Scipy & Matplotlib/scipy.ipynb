{
 "cells": [
  {
   "cell_type": "code",
   "execution_count": 1,
   "metadata": {},
   "outputs": [
    {
     "name": "stdout",
     "output_type": "stream",
     "text": [
      "uint8 (1800, 2880, 3)\n"
     ]
    }
   ],
   "source": [
    "#image operations\n",
    "from scipy.misc import imsave, imread, imresize\n",
    "img = imread(\"greece.jpg\")\n",
    "print (img.dtype, img.shape)\n",
    "# [R, G, B]\n",
    "# red channel remains same, green & blue channels changed.\n",
    "img_tinted = img * [1, 0.95, 0.5]\n",
    "# resize, save\n",
    "img_tinted = imresize(img_tinted, (900, 1600))\n",
    "imsave('modified_img.jpg', img_tinted)"
   ]
  },
  {
   "cell_type": "code",
   "execution_count": 6,
   "metadata": {},
   "outputs": [
    {
     "name": "stdout",
     "output_type": "stream",
     "text": [
      "[[0 1]\n",
      " [1 0]\n",
      " [2 0]]\n",
      "[[ 0.          1.41421356  2.23606798]\n",
      " [ 1.41421356  0.          1.        ]\n",
      " [ 2.23606798  1.          0.        ]]\n"
     ]
    }
   ],
   "source": [
    "import numpy as np\n",
    "from scipy.spatial.distance import pdist, squareform\n",
    "\n",
    "x = np.array([[0, 1], [1, 0], [2, 0]])\n",
    "print (x)\n",
    "# calculate the euclidean distance with scipy.spatial.distance\n",
    "distance = squareform(pdist(x, 'euclidean'))\n",
    "print (distance)"
   ]
  },
  {
   "cell_type": "code",
   "execution_count": null,
   "metadata": {
    "collapsed": true
   },
   "outputs": [],
   "source": []
  }
 ],
 "metadata": {
  "kernelspec": {
   "display_name": "Python 3",
   "language": "python",
   "name": "python3"
  },
  "language_info": {
   "codemirror_mode": {
    "name": "ipython",
    "version": 3
   },
   "file_extension": ".py",
   "mimetype": "text/x-python",
   "name": "python",
   "nbconvert_exporter": "python",
   "pygments_lexer": "ipython3",
   "version": "3.6.2"
  }
 },
 "nbformat": 4,
 "nbformat_minor": 2
}
