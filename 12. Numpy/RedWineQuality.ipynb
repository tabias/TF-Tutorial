{
 "cells": [
  {
   "cell_type": "code",
   "execution_count": 5,
   "metadata": {},
   "outputs": [
    {
     "name": "stdout",
     "output_type": "stream",
     "text": [
      "[['xed acidity\"', 'volatile acidity', 'citric acid', 'residual sugar', 'chlorides', 'free sulfur dioxide', 'total sulfur dioxide', 'density', 'pH', 'sulphates', 'alcohol', 'quality'], ['7.4', '0.7', '0', '1.9', '0.076', '11', '34', '0.9978', '3.51', '0.56', '9.4', '5'], ['7.8', '0.88', '0', '2.6', '0.098', '25', '67', '0.9968', '3.2', '0.68', '9.8', '5']]\n"
     ]
    }
   ],
   "source": [
    "import csv\n",
    "\n",
    "with open(\"winequality-red.csv\", \"r\") as f:\n",
    "    wines = list(csv.reader(f, delimiter = \";\"))\n",
    "    print (wines[0:3])\n",
    "    "
   ]
  },
  {
   "cell_type": "code",
   "execution_count": 23,
   "metadata": {},
   "outputs": [
    {
     "name": "stdout",
     "output_type": "stream",
     "text": [
      "[5.0, 5.0, 5.0, 6.0, 5.0, 5.0, 5.0, 7.0, 7.0, 5.0, 5.0, 5.0, 5.0, 5.0, 5.0, 5.0, 7.0, 5.0, 4.0, 6.0]\n",
      "Average:  5.6360225140712945\n"
     ]
    }
   ],
   "source": [
    "quality = [float(item[-1]) for item in wines[1:]]\n",
    "#qualities = []\n",
    "#for item in wines[1:]:\n",
    "    #quality = float(item[-1])\n",
    "    #qualities.append(quality)\n",
    "    \n",
    "print(quality[0:20])\n",
    "print ('Average: ', sum(quality) / len(quality))"
   ]
  },
  {
   "cell_type": "code",
   "execution_count": 47,
   "metadata": {},
   "outputs": [
    {
     "name": "stdout",
     "output_type": "stream",
     "text": [
      "(1599, 12)\n",
      "[  6.        0.31      0.47      3.6       0.067    18.       42.        0.99549\n",
      "   3.39      0.66     11.        6.     ]\n"
     ]
    }
   ],
   "source": [
    "import numpy as np\n",
    "\n",
    "arr1 = np.array(wines[1:], dtype=np.float)\n",
    "print(arr1.shape)\n",
    "print(arr1[-1])"
   ]
  },
  {
   "cell_type": "code",
   "execution_count": 52,
   "metadata": {},
   "outputs": [
    {
     "data": {
      "text/plain": [
       "array([[ 0.84975374,  0.21576359,  0.24361301,  0.80888114,  0.18428123],\n",
       "       [ 0.56187091,  0.50085322,  0.59201033,  0.17706562,  0.30414377]])"
      ]
     },
     "execution_count": 52,
     "metadata": {},
     "output_type": "execute_result"
    }
   ],
   "source": [
    "np.zeros((2, 5))\n",
    "np.random.rand(2,5)"
   ]
  },
  {
   "cell_type": "code",
   "execution_count": 64,
   "metadata": {},
   "outputs": [
    {
     "name": "stdout",
     "output_type": "stream",
     "text": [
      "[ 1.9  2.6  2.3 ...,  2.3  2.   3.6]\n"
     ]
    }
   ],
   "source": [
    "wines = np.genfromtxt(\"winequality-red.csv\", delimiter=\";\", skip_header=1)\n",
    "\n",
    "# entire column slicing(column no.3)\n",
    "print(wines[:,3])\n"
   ]
  },
  {
   "cell_type": "code",
   "execution_count": 113,
   "metadata": {},
   "outputs": [
    {
     "name": "stdout",
     "output_type": "stream",
     "text": [
      "[[  7.40000000e+00   7.00000000e-01   0.00000000e+00   1.90000000e+00\n",
      "    7.60000000e-02   1.10000000e+01   3.40000000e+01   9.97800000e-01\n",
      "    3.51000000e+00   5.60000000e-01   9.40000000e+00   5.00000000e+00]\n",
      " [  7.80000000e+00   8.80000000e-01   0.00000000e+00   2.60000000e+00\n",
      "    9.80000000e-02   2.50000000e+01   6.70000000e+01   9.96800000e-01\n",
      "    3.20000000e+00   6.80000000e-01   9.80000000e+00   5.00000000e+00]\n",
      " [  7.80000000e+00   7.60000000e-01   4.00000000e-02   2.30000000e+00\n",
      "    9.20000000e-02   1.50000000e+01   5.40000000e+01   9.97000000e-01\n",
      "    3.26000000e+00   6.50000000e-01   9.80000000e+00   5.00000000e+00]\n",
      " [  1.12000000e+01   2.80000000e-01   5.60000000e-01   1.90000000e+00\n",
      "    7.50000000e-02   1.70000000e+01   6.00000000e+01   9.98000000e-01\n",
      "    3.16000000e+00   5.80000000e-01   9.80000000e+00   6.00000000e+00]\n",
      " [  7.40000000e+00   7.00000000e-01   0.00000000e+00   1.90000000e+00\n",
      "    7.60000000e-02   1.10000000e+01   3.40000000e+01   9.97800000e-01\n",
      "    3.51000000e+00   5.60000000e-01   9.40000000e+00   5.00000000e+00]]\n",
      "[ 5.  5.  5.  6.  5.]\n",
      "[ 7.8   0.76  0.04]\n",
      "[[  7.4     0.7     0.      1.9     0.076]\n",
      " [  7.8     0.88    0.      2.6     0.098]\n",
      " [  7.8     0.76    0.04    2.3     0.092]\n",
      " [ 11.2     0.28    0.56    1.9     0.075]\n",
      " [  7.4     0.7     0.      1.9     0.076]]\n"
     ]
    }
   ],
   "source": [
    "third_wine = wines[3,:]\n",
    "\n",
    "sample = wines[0:5]\n",
    "print (sample)\n",
    "\n",
    "# slicing example~  sample[line range, element range]\n",
    "# every line, last element\n",
    "print (sample[:, -1])\n",
    "# line number 2, element 0~2\n",
    "print (sample[2, 0:3])\n",
    "# line number 0~4(5), element 0~4(5)\n",
    "print (sample[:5, 0:5])"
   ]
  },
  {
   "cell_type": "code",
   "execution_count": null,
   "metadata": {
    "collapsed": true
   },
   "outputs": [],
   "source": []
  }
 ],
 "metadata": {
  "kernelspec": {
   "display_name": "Python 3",
   "language": "python",
   "name": "python3"
  },
  "language_info": {
   "codemirror_mode": {
    "name": "ipython",
    "version": 3
   },
   "file_extension": ".py",
   "mimetype": "text/x-python",
   "name": "python",
   "nbconvert_exporter": "python",
   "pygments_lexer": "ipython3",
   "version": "3.6.2"
  }
 },
 "nbformat": 4,
 "nbformat_minor": 1
}
