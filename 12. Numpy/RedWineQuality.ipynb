{
 "cells": [
  {
   "cell_type": "code",
   "execution_count": 6,
   "metadata": {},
   "outputs": [
    {
     "name": "stdout",
     "output_type": "stream",
     "text": [
      "[['xed acidity\"', 'volatile acidity', 'citric acid', 'residual sugar', 'chlorides', 'free sulfur dioxide', 'total sulfur dioxide', 'density', 'pH', 'sulphates', 'alcohol', 'quality'], ['7.4', '0.7', '0', '1.9', '0.076', '11', '34', '0.9978', '3.51', '0.56', '9.4', '5'], ['7.8', '0.88', '0', '2.6', '0.098', '25', '67', '0.9968', '3.2', '0.68', '9.8', '5']]\n"
     ]
    }
   ],
   "source": [
    "import csv\n",
    "\n",
    "with open(\"winequality-red.csv\", \"r\") as f:\n",
    "    wines = list(csv.reader(f, delimiter = \";\"))\n",
    "    print (wines[0:3])\n",
    "    "
   ]
  },
  {
   "cell_type": "code",
   "execution_count": 7,
   "metadata": {},
   "outputs": [
    {
     "name": "stdout",
     "output_type": "stream",
     "text": [
      "[5.0, 5.0, 5.0, 6.0, 5.0, 5.0, 5.0, 7.0, 7.0, 5.0, 5.0, 5.0, 5.0, 5.0, 5.0, 5.0, 7.0, 5.0, 4.0, 6.0]\n",
      "Average:  5.6360225140712945\n"
     ]
    }
   ],
   "source": [
    "quality = [float(item[-1]) for item in wines[1:]]\n",
    "#qualities = []\n",
    "#for item in wines[1:]:\n",
    "    #quality = float(item[-1])\n",
    "    #qualities.append(quality)\n",
    "    \n",
    "print(quality[0:20])\n",
    "print ('Average: ', sum(quality) / len(quality))"
   ]
  },
  {
   "cell_type": "code",
   "execution_count": 8,
   "metadata": {},
   "outputs": [
    {
     "name": "stdout",
     "output_type": "stream",
     "text": [
      "(1599, 12)\n",
      "[  6.        0.31      0.47      3.6       0.067    18.       42.        0.99549\n",
      "   3.39      0.66     11.        6.     ]\n"
     ]
    }
   ],
   "source": [
    "import numpy as np\n",
    "\n",
    "arr1 = np.array(wines[1:], dtype=np.float)\n",
    "print(arr1.shape)\n",
    "print(arr1[-1])"
   ]
  },
  {
   "cell_type": "code",
   "execution_count": 9,
   "metadata": {},
   "outputs": [
    {
     "data": {
      "text/plain": [
       "array([[ 0.13212834,  0.07575496,  0.88499127,  0.87859486,  0.9276338 ],\n",
       "       [ 0.55960456,  0.47183267,  0.47194043,  0.13201567,  0.06312704]])"
      ]
     },
     "execution_count": 9,
     "metadata": {},
     "output_type": "execute_result"
    }
   ],
   "source": [
    "np.zeros((2, 5))\n",
    "np.random.rand(2,5)"
   ]
  },
  {
   "cell_type": "code",
   "execution_count": 10,
   "metadata": {},
   "outputs": [
    {
     "name": "stdout",
     "output_type": "stream",
     "text": [
      "[ 1.9  2.6  2.3 ...,  2.3  2.   3.6]\n"
     ]
    }
   ],
   "source": [
    "wines = np.genfromtxt(\"winequality-red.csv\", delimiter=\";\", skip_header=1)\n",
    "\n",
    "# entire column slicing(column no.3)\n",
    "print(wines[:,3])\n"
   ]
  },
  {
   "cell_type": "code",
   "execution_count": 12,
   "metadata": {},
   "outputs": [
    {
     "name": "stdout",
     "output_type": "stream",
     "text": [
      "[[  7.40000000e+00   7.00000000e-01   0.00000000e+00   1.90000000e+00\n",
      "    7.60000000e-02   1.10000000e+01   3.40000000e+01   9.97800000e-01\n",
      "    3.51000000e+00   5.60000000e-01   9.40000000e+00   5.00000000e+00]\n",
      " [  7.80000000e+00   8.80000000e-01   0.00000000e+00   2.60000000e+00\n",
      "    9.80000000e-02   2.50000000e+01   6.70000000e+01   9.96800000e-01\n",
      "    3.20000000e+00   6.80000000e-01   9.80000000e+00   5.00000000e+00]\n",
      " [  7.80000000e+00   7.60000000e-01   4.00000000e-02   2.30000000e+00\n",
      "    9.20000000e-02   1.50000000e+01   5.40000000e+01   9.97000000e-01\n",
      "    3.26000000e+00   6.50000000e-01   9.80000000e+00   5.00000000e+00]\n",
      " [  1.12000000e+01   2.80000000e-01   5.60000000e-01   1.90000000e+00\n",
      "    7.50000000e-02   1.70000000e+01   6.00000000e+01   9.98000000e-01\n",
      "    3.16000000e+00   5.80000000e-01   9.80000000e+00   6.00000000e+00]\n",
      " [  7.40000000e+00   7.00000000e-01   0.00000000e+00   1.90000000e+00\n",
      "    7.60000000e-02   1.10000000e+01   3.40000000e+01   9.97800000e-01\n",
      "    3.51000000e+00   5.60000000e-01   9.40000000e+00   5.00000000e+00]]\n",
      "[ 5.  5.  5.  6.  5.]\n",
      "[ 7.8   0.76  0.04]\n",
      "[[  7.4     0.7     0.      1.9     0.076]\n",
      " [  7.8     0.88    0.      2.6     0.098]\n",
      " [  7.8     0.76    0.04    2.3     0.092]\n",
      " [ 11.2     0.28    0.56    1.9     0.075]\n",
      " [  7.4     0.7     0.      1.9     0.076]]\n"
     ]
    }
   ],
   "source": [
    "third_wine = wines[3,:]\n",
    "\n",
    "sample = wines[0:5]\n",
    "print (sample)\n",
    "\n",
    "# slicing example~  sample[line range, element range]\n",
    "# every line, last element\n",
    "print (sample[:, -1])\n",
    "# line number 2, element 0~2\n",
    "print (sample[2, 0:3])\n",
    "# line number 0~4(5), element 0~4(5)\n",
    "print (sample[:5, 0:5])"
   ]
  },
  {
   "cell_type": "code",
   "execution_count": 13,
   "metadata": {},
   "outputs": [
    {
     "name": "stdout",
     "output_type": "stream",
     "text": [
      "float64\n",
      "<class 'numpy.ndarray'>\n",
      "int32\n",
      "[[ 7  0  0  1  0 11 34  0  3  0  9  5]\n",
      " [ 7  0  0  2  0 25 67  0  3  0  9  5]\n",
      " [ 7  0  0  2  0 15 54  0  3  0  9  5]\n",
      " [11  0  0  1  0 17 60  0  3  0  9  6]\n",
      " [ 7  0  0  1  0 11 34  0  3  0  9  5]]\n"
     ]
    }
   ],
   "source": [
    "print (sample.dtype)\n",
    "print (type(sample))\n",
    "\n",
    "convert = sample.astype(np.int32)\n",
    "print (convert.dtype)\n",
    "print (convert)"
   ]
  },
  {
   "cell_type": "code",
   "execution_count": 15,
   "metadata": {},
   "outputs": [
    {
     "name": "stdout",
     "output_type": "stream",
     "text": [
      "[ 0.81099299  0.60869917  0.8560396   0.60386662  0.28687351  0.06569197\n",
      "  0.93328178  0.35322255  0.751853    0.31948101  0.39300506  0.38656251]\n",
      "(12,)\n"
     ]
    }
   ],
   "source": [
    "# one dimension array(vector)\n",
    "rand_arr1 = np.random.rand(12)\n",
    "# two dimension array(matrix)\n",
    "rand_arr2 = np.random.rand(1, 12)\n",
    "\n",
    "print (rand_arr1)\n",
    "print (rand_arr1.shape)"
   ]
  },
  {
   "cell_type": "code",
   "execution_count": 16,
   "metadata": {},
   "outputs": [
    {
     "name": "stdout",
     "output_type": "stream",
     "text": [
      "[[  7.4     0.7     0.    ...,   0.56    9.4     5.   ]\n",
      " [  7.8     0.88    0.    ...,   0.68    9.8     5.   ]\n",
      " [  7.8     0.76    0.04  ...,   0.65    9.8     5.   ]\n",
      " ..., \n",
      " [  6.3     0.51    0.13  ...,   0.75   11.      6.   ]\n",
      " [  5.9     0.645   0.12  ...,   0.71   10.2     5.   ]\n",
      " [  6.      0.31    0.47  ...,   0.66   11.      6.   ]]\n",
      "(12,)\n",
      "(1599,)\n"
     ]
    }
   ],
   "source": [
    "print (wines)\n",
    "# sum of each columns\n",
    "print (wines.sum(axis=0).shape)\n",
    "# sum of each rows\n",
    "print (wines.sum(axis=1).shape)"
   ]
  },
  {
   "cell_type": "code",
   "execution_count": 17,
   "metadata": {},
   "outputs": [
    {
     "name": "stdout",
     "output_type": "stream",
     "text": [
      "(1599,)\n",
      "[[ 12.8   8. ]\n",
      " [ 12.6   8. ]\n",
      " [ 12.9   8. ]\n",
      " [ 13.4   8. ]\n",
      " [ 14.    8. ]\n",
      " [ 12.7   8. ]\n",
      " [ 12.5   8. ]\n",
      " [ 13.1   8. ]\n",
      " [ 14.    8. ]]\n"
     ]
    }
   ],
   "source": [
    "# vector of bool type  \n",
    "top_quality_wine = (wines[:, 10] > 12) & (wines[:, 11] > 7)\n",
    "print (top_quality_wine.shape)\n",
    "print (wines[top_quality_wine, 10:])"
   ]
  },
  {
   "cell_type": "code",
   "execution_count": 18,
   "metadata": {},
   "outputs": [
    {
     "data": {
      "text/plain": [
       "(12, 1599)"
      ]
     },
     "execution_count": 18,
     "metadata": {},
     "output_type": "execute_result"
    }
   ],
   "source": [
    "np.transpose(wines).shape"
   ]
  },
  {
   "cell_type": "code",
   "execution_count": 19,
   "metadata": {},
   "outputs": [
    {
     "data": {
      "text/plain": [
       "array([  7.4 ,   0.7 ,   0.  , ...,   0.66,  11.  ,   6.  ])"
      ]
     },
     "execution_count": 19,
     "metadata": {},
     "output_type": "execute_result"
    }
   ],
   "source": [
    "np.ravel(wines)"
   ]
  },
  {
   "cell_type": "code",
   "execution_count": 20,
   "metadata": {},
   "outputs": [
    {
     "name": "stdout",
     "output_type": "stream",
     "text": [
      "[[  7.8      0.88     0.       2.6      0.098   25.    ]\n",
      " [ 67.       0.9968   3.2      0.68     9.8      5.    ]]\n",
      "[[  7.8      0.88     0.       2.6   ]\n",
      " [  0.098   25.      67.       0.9968]\n",
      " [  3.2      0.68     9.8      5.    ]]\n",
      "[  7.8      0.88     0.       2.6      0.098   25.      67.       0.9968\n",
      "   3.2      0.68     9.8      5.    ]\n"
     ]
    }
   ],
   "source": [
    "row_one = wines[1, :]\n",
    "#print (row_one.reshape((2,6)))\n",
    "print (np.reshape(row_one, (2,6)))\n",
    "print (np.reshape(row_one, (3,4)))\n",
    "\n",
    "# not changed\n",
    "print (row_one)"
   ]
  },
  {
   "cell_type": "code",
   "execution_count": 24,
   "metadata": {},
   "outputs": [
    {
     "name": "stdout",
     "output_type": "stream",
     "text": [
      "(4898, 12)\n"
     ]
    }
   ],
   "source": [
    "white_wines = np.genfromtxt(\"winequality-white.csv\", delimiter=\";\", skip_header=1)\n",
    "print (white_wines.shape)"
   ]
  },
  {
   "cell_type": "code",
   "execution_count": 35,
   "metadata": {},
   "outputs": [
    {
     "name": "stdout",
     "output_type": "stream",
     "text": [
      "(6497, 12)\n",
      "[[  7.4    0.7    0.   ...,   0.56   9.4    5.  ]\n",
      " [  7.8    0.88   0.   ...,   0.68   9.8    5.  ]\n",
      " [  7.8    0.76   0.04 ...,   0.65   9.8    5.  ]\n",
      " ..., \n",
      " [  6.5    0.24   0.19 ...,   0.46   9.4    6.  ]\n",
      " [  5.5    0.29   0.3  ...,   0.38  12.8    7.  ]\n",
      " [  6.     0.21   0.38 ...,   0.32  11.8    6.  ]]\n",
      "(4898, 24)\n",
      "[[  0.     0.     0.   ...,   0.45   8.8    6.  ]\n",
      " [  0.     0.     0.   ...,   0.49   9.5    6.  ]\n",
      " [  0.     0.     0.   ...,   0.44  10.1    6.  ]\n",
      " ..., \n",
      " [  0.     0.     0.   ...,   0.46   9.4    6.  ]\n",
      " [  0.     0.     0.   ...,   0.38  12.8    7.  ]\n",
      " [  0.     0.     0.   ...,   0.32  11.8    6.  ]]\n"
     ]
    }
   ],
   "source": [
    "# vertical stack (should be same number of elements)\n",
    "vres = np.vstack((wines, white_wines))\n",
    "# vres = np.concatenate((wines, white_wines), axis=0)\n",
    "print (vres.shape)\n",
    "print (vres)\n",
    "\n",
    "# dump array\n",
    "dumparr = np.zeros((4898, 12))\n",
    "\n",
    "# horizontal stack (should be same number of lines)\n",
    "# concatenate function is generally used.\n",
    "hres = np.concatenate((dumparr, white_wines), axis=1)\n",
    "print (hres.shape)\n",
    "print (hres)\n"
   ]
  },
  {
   "cell_type": "code",
   "execution_count": 31,
   "metadata": {},
   "outputs": [
    {
     "name": "stdout",
     "output_type": "stream",
     "text": [
      "(1599, 12)\n",
      "[0 1 2 3]\n",
      "[ 1  6  7 11]\n"
     ]
    }
   ],
   "source": [
    "print (wines.shape)\n",
    "a = np.array([[1,2,3], [4,5,6], [7,8,9], [10,11,12]])\n",
    "# [0, 1, 2, 3]\n",
    "b = np.arange(4)\n",
    "\n",
    "print (b)\n",
    "print (a[b, [0, 2, 0, 1]])"
   ]
  },
  {
   "cell_type": "code",
   "execution_count": 34,
   "metadata": {},
   "outputs": [
    {
     "name": "stdout",
     "output_type": "stream",
     "text": [
      "[[1 3]\n",
      " [2 4]]\n",
      "[[1 3]\n",
      " [2 4]]\n"
     ]
    }
   ],
   "source": [
    "# transpose\n",
    "c = np.array([[1,2], [3,4]])\n",
    "print (c.T)\n",
    "print (np.transpose(c))"
   ]
  },
  {
   "cell_type": "code",
   "execution_count": null,
   "metadata": {
    "collapsed": true
   },
   "outputs": [],
   "source": []
  }
 ],
 "metadata": {
  "kernelspec": {
   "display_name": "Python 3",
   "language": "python",
   "name": "python3"
  },
  "language_info": {
   "codemirror_mode": {
    "name": "ipython",
    "version": 3
   },
   "file_extension": ".py",
   "mimetype": "text/x-python",
   "name": "python",
   "nbconvert_exporter": "python",
   "pygments_lexer": "ipython3",
   "version": "3.6.2"
  }
 },
 "nbformat": 4,
 "nbformat_minor": 1
}
